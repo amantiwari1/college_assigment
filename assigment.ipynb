{
 "cells": [
  {
   "cell_type": "markdown",
   "metadata": {},
   "source": [
    "## Name - Aman Tiwari\n",
    "## Roll. No. - BCA/25028/19\n",
    "## Subject - CA278 Python Programming Lab"
   ]
  },
  {
   "cell_type": "markdown",
   "metadata": {},
   "source": [
    "###  1. Write a program that displays “Hello to Python programming”\n"
   ]
  },
  {
   "cell_type": "code",
   "execution_count": 4,
   "metadata": {},
   "outputs": [
    {
     "name": "stdout",
     "output_type": "stream",
     "text": [
      "Hello to Python programming\n"
     ]
    }
   ],
   "source": [
    "print(\"Hello to Python programming\")"
   ]
  },
  {
   "cell_type": "markdown",
   "metadata": {},
   "source": [
    "### 2. Write a program to read two integers and perform arithmetic operations on them\n",
    "(addition, subtraction, multiplication and division). "
   ]
  },
  {
   "cell_type": "code",
   "execution_count": 3,
   "metadata": {
    "scrolled": true
   },
   "outputs": [
    {
     "name": "stdout",
     "output_type": "stream",
     "text": [
      "100\n",
      "200\n",
      "Addition  100 + 200 = 300\n",
      "Subtraction  100 - 200 = -100\n",
      "Multiplication  100 * 200 = 20000\n",
      "Division  100 / 200 = 0.5\n"
     ]
    }
   ],
   "source": [
    "number1 = int(input(\"Enter the Number 1\"))\n",
    "number2 = int(input(\"Enter the Number 2\"))\n",
    "\n",
    "print(\"Addition \", number1, \"+\", number2 , \"=\" , number1 + number2 )\n",
    "print(\"Subtraction \", number1, \"-\", number2 , \"=\" , number1 - number2 )\n",
    "print(\"Multiplication \", number1, \"*\", number2 , \"=\" , number1 * number2 )\n",
    "print(\"Division \", number1, \"/\", number2 , \"=\" , number1 / number2 )"
   ]
  },
  {
   "cell_type": "markdown",
   "metadata": {},
   "source": [
    "### 3. Write a program to read the marks of three subjects and find the average of them. "
   ]
  },
  {
   "cell_type": "code",
   "execution_count": 6,
   "metadata": {},
   "outputs": [
    {
     "name": "stdout",
     "output_type": "stream",
     "text": [
      "Enter the marks of first subject: 55\n",
      "Enter the marks of second subject: 55\n",
      "Enter the marks of third subject: 33\n",
      "Total marks:  143\n",
      "Average marks:  47.666666666666664\n"
     ]
    }
   ],
   "source": [
    "first_Subject = int(input(\"Enter the marks of first subject: \"))\n",
    "second_Subject = int(input(\"Enter the marks of second subject: \"))\n",
    "third_Subject = int(input(\"Enter the marks of third subject: \"))\n",
    "percent = first_Subject+second_Subject+third_Subject\n",
    "print(\"Total marks: \",percent)\n",
    "print(\"Average marks: \",percent/3)"
   ]
  },
  {
   "cell_type": "markdown",
   "metadata": {},
   "source": [
    "### 4. Surface area of a prism can be calculated if the lengths of the three sides are known. Write a program that takes the sides as input (read it as integer) and prints the surface area of the prism (Surface Area = 2ab + 2bc + 2ca) "
   ]
  },
  {
   "cell_type": "code",
   "execution_count": null,
   "metadata": {},
   "outputs": [],
   "source": []
  }
 ],
 "metadata": {
  "kernelspec": {
   "display_name": "Python 3 (ipykernel)",
   "language": "python",
   "name": "python3"
  },
  "language_info": {
   "codemirror_mode": {
    "name": "ipython",
    "version": 3
   },
   "file_extension": ".py",
   "mimetype": "text/x-python",
   "name": "python",
   "nbconvert_exporter": "python",
   "pygments_lexer": "ipython3",
   "version": "3.9.5"
  }
 },
 "nbformat": 4,
 "nbformat_minor": 2
}
